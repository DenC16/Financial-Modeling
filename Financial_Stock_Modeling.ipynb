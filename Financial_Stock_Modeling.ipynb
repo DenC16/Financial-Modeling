{
 "cells": [
  {
   "cell_type": "markdown",
   "metadata": {},
   "source": [
    "# Financial Modeling Using Monte Carlo Simulation"
   ]
  },
  {
   "cell_type": "code",
   "execution_count": 1,
   "metadata": {},
   "outputs": [],
   "source": [
    "import scipy.stats as sct\n",
    "import random\n",
    "from matplotlib import pyplot as plt\n",
    "import numpy as np\n",
    "import seaborn as sns"
   ]
  },
  {
   "cell_type": "markdown",
   "metadata": {},
   "source": [
    "## Dividend Discount Model or Discounted Cashflow Model"
   ]
  },
  {
   "cell_type": "markdown",
   "metadata": {},
   "source": [
    "$$V_0 = \\frac{D_0(1 + g)}{(1 + r)} + \\frac{D_0(1 + g)^2}{(1 + r)^2} + ... + \\frac{D_0(1 + g)^n}{(1 + r)^n}$$"
   ]
  },
  {
   "cell_type": "markdown",
   "metadata": {},
   "source": [
    "## Gordon Growth Model"
   ]
  },
  {
   "cell_type": "markdown",
   "metadata": {},
   "source": [
    "$$V_0 = \\frac{D_0(1 + g)}{r - g}$$"
   ]
  },
  {
   "cell_type": "code",
   "execution_count": 2,
   "metadata": {},
   "outputs": [
    {
     "name": "stderr",
     "output_type": "stream",
     "text": [
      "C:\\Users\\dhyan\\anaconda3\\lib\\site-packages\\seaborn\\distributions.py:2557: FutureWarning: `distplot` is a deprecated function and will be removed in a future version. Please adapt your code to use either `displot` (a figure-level function with similar flexibility) or `histplot` (an axes-level function for histograms).\n",
      "  warnings.warn(msg, FutureWarning)\n"
     ]
    },
    {
     "data": {
      "text/plain": [
       "Text(0.5, 0, 'Market Value')"
      ]
     },
     "execution_count": 2,
     "metadata": {},
     "output_type": "execute_result"
    },
    {
     "data": {
      "image/png": "[encoded data removed]",
      "text/plain": [
       "<Figure size 432x288 with 1 Axes>"
      ]
     },
     "metadata": {
      "needs_background": "light"
     },
     "output_type": "display_data"
    }
   ],
   "source": [
    "d0 = 100                                                    # initial dividend\n",
    "data = []       \n",
    "\n",
    "for x in range(10000):\n",
    "    g = random.uniform(0.05, 0.08)                          # growth\n",
    "    r = random.uniform(0.09, 0.10)                          # rate of return\n",
    "    d1 = d0*(1+g)\n",
    "    v0 = d1/(r-g)\n",
    "    data.append(v0)\n",
    "\n",
    "sns.distplot(data)\n",
    "plt.ylabel('Frequency')\n",
    "plt.xlabel('Market Value')\n"
   ]
  },
  {
   "cell_type": "code",
   "execution_count": 3,
   "metadata": {},
   "outputs": [
    {
     "data": {
      "text/plain": [
       "[3600.1866878279748,\n",
       " 5460.663907433528,\n",
       " 3087.1892365264703,\n",
       " 5540.9590298985395,\n",
       " 5687.261542850585,\n",
       " 2170.9007985922763,\n",
       " 2989.8971187464003,\n",
       " 4792.139399902201,\n",
       " 2345.63500933026,\n",
       " 2705.627497622415,\n",
       " 2962.4632098210236,\n",
       " 2916.6582368545364,\n",
       " 3182.759204381135,\n",
       " 3120.326684447326,\n",
       " 2330.7905135791125,\n",
       " 5904.534224531954,\n",
       " 3520.1852162479668,\n",
       " 3024.499318033872,\n",
       " 7068.438413112631,\n",
       " 2883.101624603842,\n",
       " 2484.2793042071094,\n",
       " 4373.211904104341,\n",
       " 3322.3515017913755,\n",
       " 3247.145183494417,\n",
       " 3804.2546317590654,\n",
       " 3441.8864241217275,\n",
       " 3452.35318073701,\n",
       " 6638.369567111559,\n",
       " 9513.360319626485,\n",
       " 5840.644284851611,\n",
       " 4503.8098693121465,\n",
       " 4868.941117899739,\n",
       " 2606.0949187613005,\n",
       " 2875.333736621557,\n",
       " 3498.0344412531995,\n",
       " 3229.03858688812,\n",
       " 3273.2085967085536,\n",
       " 3814.031624712861,\n",
       " 5013.207130456646,\n",
       " 2604.0803040592778,\n",
       " 2872.6384188293305,\n",
       " 6326.501877562716,\n",
       " 5067.96840565551,\n",
       " 3484.7894473125484,\n",
       " 3724.530508590956,\n",
       " 2588.727024557644,\n",
       " 4740.939902240192,\n",
       " 2499.0244134372583,\n",
       " 2616.8992450434075,\n",
       " 5621.801632279138,\n",
       " 3941.0555378515473,\n",
       " 3958.6573688203857,\n",
       " 6770.812356547585,\n",
       " 4900.444804233038,\n",
       " 3582.151141163425,\n",
       " 2320.2674130212617,\n",
       " 3926.7911249545255,\n",
       " 4051.202641301226,\n",
       " 3891.745679394617,\n",
       " 4340.108216113778,\n",
       " 3131.4382639528235,\n",
       " 4327.922209140072,\n",
       " 2848.656005695768,\n",
       " 2763.8701307954184,\n",
       " 2909.7639336428974,\n",
       " 4367.2632725610765,\n",
       " 6013.2148574037055,\n",
       " 3093.7111181342434,\n",
       " 8237.039193729397,\n",
       " 2902.269965922547,\n",
       " 2649.072559817353,\n",
       " 6707.1363586884445,\n",
       " 3762.6151239357887,\n",
       " 2642.3101203217034,\n",
       " 4175.24987809051,\n",
       " 2447.171045340354,\n",
       " 3472.517949678818,\n",
       " 3980.2994938249703,\n",
       " 2816.291987540131,\n",
       " 2380.4228173690276,\n",
       " 3706.1527110661464,\n",
       " 3188.0678086917246,\n",
       " 4241.002534133861,\n",
       " 4926.523930539519,\n",
       " 2797.7937433534453,\n",
       " 2382.4347117440257,\n",
       " 2936.859816913167,\n",
       " 8125.751144699389,\n",
       " 7021.128138118323,\n",
       " 3801.3000747174624,\n",
       " 3053.4382914258454,\n",
       " 7484.012852646655,\n",
       " 4673.456229384931,\n",
       " 8307.793782418752,\n",
       " 4460.425510306227,\n",
       " 2370.7860457121033,\n",
       " 5391.510702059317,\n",
       " 3794.8415311025346,\n",
       " 5111.491680089261,\n",
       " 3665.053171926043,\n",
       " 2914.883633651688,\n",
       " 3272.505606709304,\n",
       " 5371.105326313181,\n",
       " 7685.078583349256,\n",
       " 4959.396931039659,\n",
       " 4075.9356883874702,\n",
       " 2574.2790984509415,\n",
       " 2669.618890385848,\n",
       " 4420.2393589133535,\n",
       " 5967.574852659259,\n",
       " 2647.2988556889636,\n",
       " 2510.6920364025505,\n",
       " 4981.8674456110175,\n",
       " 2233.5591532421627,\n",
       " 2356.3823725169327,\n",
       " 6309.931685707119,\n",
       " 2981.2719087766427,\n",
       " 3140.3874039835846,\n",
       " 3633.9161904872453,\n",
       " 4491.654317821279,\n",
       " 2931.7632320920234,\n",
       " 2722.37789097177,\n",
       " 8396.241970399811,\n",
       " 2213.3484304275994,\n",
       " 4053.8684517697666,\n",
       " 4981.684760510153,\n",
       " 4246.445946684191,\n",
       " 7274.527321648915,\n",
       " 3626.713428501611,\n",
       " 2919.2571222147685,\n",
       " 3344.0579142280662,\n",
       " 8890.873847511617,\n",
       " 2558.643609809899,\n",
       " 2321.9503213602734,\n",
       " 7990.345846918554,\n",
       " 5912.209336959644,\n",
       " 3223.6055997547282,\n",
       " 5851.183087152864,\n",
       " 3573.037034101416,\n",
       " 2315.380348607566,\n",
       " 4114.427199523084,\n",
       " 5723.0865207222805,\n",
       " 3236.4698836856833,\n",
       " 5118.758063542571,\n",
       " 2474.991831184285,\n",
       " 6096.5487309499085,\n",
       " 8939.63697449324,\n",
       " 2229.789141394384,\n",
       " 3064.150559494087,\n",
       " 5635.551883753473,\n",
       " 2565.1180824839907,\n",
       " 4578.579536811579,\n",
       " 2795.012479733517,\n",
       " 7069.124057831152,\n",
       " 3064.9276652737276,\n",
       " 4261.417418052242,\n",
       " 2574.471805025642,\n",
       " 3129.753903521024,\n",
       " 2405.857803291183,\n",
       " 2457.425156044925,\n",
       " 3827.9245617908837,\n",
       " 2437.942670524195,\n",
       " 5725.465743797169,\n",
       " 6770.619174356146,\n",
       " 2247.1934602306305,\n",
       " 3426.9810979170848,\n",
       " 2421.1034192166935,\n",
       " 2689.3716241281663,\n",
       " 6784.860497642533,\n",
       " 3125.934455848529,\n",
       " 2525.605298318029,\n",
       " 3431.769002987509,\n",
       " 3496.5403973349153,\n",
       " 5137.480779572253,\n",
       " 5143.083614188034,\n",
       " 4543.58099041181,\n",
       " 3312.3103304560586,\n",
       " 7661.676269284847,\n",
       " 3980.2895170970537,\n",
       " 2794.5625389607303,\n",
       " 4519.490120370382,\n",
       " 2900.1036397521466,\n",
       " 6062.643830246701,\n",
       " 2371.0042114969824,\n",
       " 5498.615470201129,\n",
       " 2210.8443990276046,\n",
       " 7300.562343012295,\n",
       " 5926.909657882683,\n",
       " 2337.6530685891066,\n",
       " 2937.516197197487,\n",
       " 2571.1328510361727,\n",
       " 2414.8124565530707,\n",
       " 4532.738430440688,\n",
       " 2921.8295044129213,\n",
       " 2886.8933646938544,\n",
       " 4281.831663307703,\n",
       " 4825.377388611492,\n",
       " 2428.6034475675383,\n",
       " 8157.968117238019,\n",
       " 3276.040367054029,\n",
       " 3193.4100168178193,\n",
       " 2256.2795168870216,\n",
       " 2312.92056810162,\n",
       " 3167.156627985316,\n",
       " 2528.4523791696824,\n",
       " 3066.485247375946,\n",
       " 4336.9230376896085,\n",
       " 2517.998164049972,\n",
       " 2643.8079097488835,\n",
       " 5388.0045311907925,\n",
       " 2852.082359837493,\n",
       " 4164.636827480056,\n",
       " 2873.8165413301117,\n",
       " 2752.9528971431537,\n",
       " 2470.550366865333,\n",
       " 3086.9952787654042,\n",
       " 3017.61717230482,\n",
       " 6562.55311083157,\n",
       " 3468.4295093034007,\n",
       " 5986.155620042524,\n",
       " 2629.7392079638807,\n",
       " 4133.977725038038,\n",
       " 3061.2917425825185,\n",
       " 3292.677126744198,\n",
       " 3998.779487239972,\n",
       " 2972.4394774766142,\n",
       " 4559.858593818757,\n",
       " 8068.977880789907,\n",
       " 2820.0536637548303,\n",
       " 2944.5667742148953,\n",
       " 6060.243696182107,\n",
       " 2475.676329388851,\n",
       " 4703.170512955865,\n",
       " 2341.623577079856,\n",
       " 3165.23020381882,\n",
       " 3150.357924706496,\n",
       " 2525.2085514812875,\n",
       " 4721.558076825705,\n",
       " 6708.3517440700625,\n",
       " 3565.290045001231,\n",
       " 5986.892523233214,\n",
       " 3905.418370621751,\n",
       " 3672.616893753348,\n",
       " 3625.2467043558627,\n",
       " 2649.0121604787987,\n",
       " 3144.5702077749133,\n",
       " 2687.1898612555337,\n",
       " 5298.897797699207,\n",
       " 2523.785356677039,\n",
       " 4601.044799637895,\n",
       " 9532.902844708016,\n",
       " 3063.214139428666,\n",
       " 3456.86727438975,\n",
       " 2443.6137856219398,\n",
       " 8289.23465365046,\n",
       " 3561.6988940442916,\n",
       " 5032.970898621648,\n",
       " 5846.075491409722,\n",
       " 3210.1717573107703,\n",
       " 3124.191610917831,\n",
       " 4835.2490558945065,\n",
       " 5353.269369941505,\n",
       " 3931.5215095177036,\n",
       " 2557.8355124657255,\n",
       " 6043.573086436387,\n",
       " 4762.974497037646,\n",
       " 9457.88127624958,\n",
       " 3530.948889163223,\n",
       " 6065.459411812492,\n",
       " 2810.8648460644604,\n",
       " 4545.410011760143,\n",
       " 3977.9711968020006,\n",
       " 3463.376950992894,\n",
       " 3284.621094612209,\n",
       " 4709.423710601761,\n",
       " 2340.982284328928,\n",
       " 4116.38037268672,\n",
       " 5068.765731399718,\n",
       " 2541.252442347067,\n",
       " 3552.9308066534154,\n",
       " 5708.378189486729,\n",
       " 3497.9336899466316,\n",
       " 2432.1263230614263,\n",
       " 3270.701486516741,\n",
       " 2534.9598115859026,\n",
       " 2546.691126123187,\n",
       " 2708.120478711565,\n",
       " 2910.4399367963156,\n",
       " 7501.190789022869,\n",
       " 2590.887853822395,\n",
       " 3965.2472927374693,\n",
       " 9273.786042356383,\n",
       " 3333.3316070687147,\n",
       " 3079.230817234753,\n",
       " 3332.436456843775,\n",
       " 6162.300055486027,\n",
       " 9953.409045780998,\n",
       " 4091.543702263766,\n",
       " 5516.48017021127,\n",
       " 3214.449813186924,\n",
       " 3340.52384168718,\n",
       " 4137.316993068891,\n",
       " 5273.875665039575,\n",
       " 4142.325933095967,\n",
       " 3115.663621781782,\n",
       " 6993.991359878468,\n",
       " 5553.096018737552,\n",
       " 3229.277453386645,\n",
       " 5156.578518913485,\n",
       " 4666.081910669696,\n",
       " 4284.444894371827,\n",
       " 2496.6492082019117,\n",
       " 2591.1652907944845,\n",
       " 3431.6312154248953,\n",
       " 2649.373777046027,\n",
       " 2252.992231175272,\n",
       " 4311.662033752674,\n",
       " 3633.3647246023465,\n",
       " 2754.1965693698357,\n",
       " 6897.043091074856,\n",
       " 2497.9221192965488,\n",
       " 8303.480373241935,\n",
       " 7034.124405417556,\n",
       " 4050.65833708043,\n",
       " 3494.7100273720425,\n",
       " 6575.730813422794,\n",
       " 4912.536172146091,\n",
       " 5054.14037046535,\n",
       " 3291.5201869088573,\n",
       " 5463.258551078487,\n",
       " 3471.653548947843,\n",
       " 2475.4809413693747,\n",
       " 3935.95149232735,\n",
       " 2633.554812471216,\n",
       " 4292.222917810247,\n",
       " 3311.317234494953,\n",
       " 2316.8133023133987,\n",
       " 5360.88037806739,\n",
       " 3157.879627869821,\n",
       " 2582.944482274859,\n",
       " 5371.344506999546,\n",
       " 3629.1724476124446,\n",
       " 3899.781700582281,\n",
       " 4341.9992973094895,\n",
       " 3216.478371760852,\n",
       " 2576.7428604168263,\n",
       " 8955.174771238706,\n",
       " 4199.870756479139,\n",
       " 4028.4273255348025,\n",
       " 6290.6905703669,\n",
       " 3636.3394317281413,\n",
       " 4840.246000516452,\n",
       " 2594.695220784779,\n",
       " 4213.453086941085,\n",
       " 2521.969531802077,\n",
       " 3985.5839141807046,\n",
       " 2182.40801011137,\n",
       " 4019.475620675719,\n",
       " 2562.175995337281,\n",
       " 3899.588758498465,\n",
       " 4476.869860563577,\n",
       " 3335.6892167286915,\n",
       " 5350.008798465245,\n",
       " 3005.8298138712184,\n",
       " 3665.954822701367,\n",
       " 6811.38155456489,\n",
       " 2380.7707715332253,\n",
       " 5868.97307331559,\n",
       " 2135.8098845638788,\n",
       " 2409.99274787547,\n",
       " 5689.610635289055,\n",
       " 6254.829853275813,\n",
       " 8709.217335545107,\n",
       " 2430.148111181463,\n",
       " 2275.0257776437247,\n",
       " 2794.7937918735456,\n",
       " 3648.696399915225,\n",
       " 3641.318462116493,\n",
       " 6736.730322676403,\n",
       " 3386.241470302954,\n",
       " 3413.853664500013,\n",
       " 3838.9311328524977,\n",
       " 3299.171363091099,\n",
       " 2603.9048670760617,\n",
       " 5391.836688335604,\n",
       " 2677.9901446681743,\n",
       " 5210.067268799395,\n",
       " 3012.4700491153794,\n",
       " 4819.632472735665,\n",
       " 2693.7682898595017,\n",
       " 3713.982291513526,\n",
       " 2845.223599515997,\n",
       " 4596.871519207026,\n",
       " 6066.594495339039,\n",
       " 2966.9990541012003,\n",
       " 2850.110290729896,\n",
       " 6415.480550933081,\n",
       " 3442.548254679861,\n",
       " 5607.963476112255,\n",
       " 6605.1874310559715,\n",
       " 2595.1793936834547,\n",
       " 4100.374300628198,\n",
       " 3322.9484620610665,\n",
       " 3529.135166567535,\n",
       " 2426.803173489226,\n",
       " 2367.771904508749,\n",
       " 2287.2160284698243,\n",
       " 3154.3780628156874,\n",
       " 3289.576560015411,\n",
       " 2967.059123511569,\n",
       " 5388.96468595316,\n",
       " 3396.6181631708737,\n",
       " 2724.2760766579263,\n",
       " 3217.013042609513,\n",
       " 4676.3745598664445,\n",
       " 4407.279273125624,\n",
       " 3661.2871777190862,\n",
       " 4131.581901436217,\n",
       " 4278.890191462356,\n",
       " 3544.1099591440843,\n",
       " 4179.817033854899,\n",
       " 4515.335821435508,\n",
       " 3546.8358667878124,\n",
       " 2249.7733107360914,\n",
       " 3540.0299569699077,\n",
       " 2598.731227092963,\n",
       " 4708.11144295436,\n",
       " 6045.191278115245,\n",
       " 3348.212921169898,\n",
       " 3056.009607641377,\n",
       " 6067.604428005019,\n",
       " 3392.7126224255708,\n",
       " 4520.566223051702,\n",
       " 2401.3680894565914,\n",
       " 3964.4900746188837,\n",
       " 3863.8713823912794,\n",
       " 2773.5983499021345,\n",
       " 2944.347020925061,\n",
       " 5313.796067242977,\n",
       " 3719.392901496965,\n",
       " 2982.049686182962,\n",
       " 2299.262288907185,\n",
       " 5316.759722509065,\n",
       " 5265.144677861583,\n",
       " 5551.769013910191,\n",
       " 8678.729696080414,\n",
       " 2530.2273669971223,\n",
       " 2691.9144655127807,\n",
       " 2297.978994750127,\n",
       " 3573.016415752171,\n",
       " 4784.818953957129,\n",
       " 2943.6339948940617,\n",
       " 5919.9161445505015,\n",
       " 7323.169995601507,\n",
       " 2894.590290162994,\n",
       " 6047.344745886623,\n",
       " 5276.7940903892595,\n",
       " 3912.591001534974,\n",
       " 2407.088183328975,\n",
       " 6575.339038056386,\n",
       " 4526.490578965307,\n",
       " 4474.028650764098,\n",
       " 2287.241332925578,\n",
       " 2256.18344384606,\n",
       " 2170.54416798346,\n",
       " 2342.5445266578477,\n",
       " 4598.916555203368,\n",
       " 3627.813137332252,\n",
       " 2915.4843166518954,\n",
       " 4674.77229403282,\n",
       " 3199.992635007559,\n",
       " 2919.6087829159283,\n",
       " 3153.5222983989365,\n",
       " 2309.0381619272725,\n",
       " 3997.970500418123,\n",
       " 6066.788320851442,\n",
       " 4084.158966399389,\n",
       " 2682.000138641865,\n",
       " 2747.896324307019,\n",
       " 4301.003388966289,\n",
       " 3174.321720539893,\n",
       " 2450.207681045495,\n",
       " 3754.9632379295003,\n",
       " 2218.9176897292855,\n",
       " 2434.894150135438,\n",
       " 7870.691806665482,\n",
       " 3647.7291935779303,\n",
       " 6090.907894164589,\n",
       " 2590.745340978292,\n",
       " 3640.036749559074,\n",
       " 2712.2274489889737,\n",
       " 4012.2882134687015,\n",
       " 3387.678473794606,\n",
       " 4100.097738804385,\n",
       " 9884.660335383027,\n",
       " 5485.069956737468,\n",
       " 3005.5669744851516,\n",
       " 7380.757126536565,\n",
       " 2331.187940144533,\n",
       " 4034.482610173699,\n",
       " 3958.577879197519,\n",
       " 2634.5057602449924,\n",
       " 3509.095578041269,\n",
       " 4866.670982959952,\n",
       " 6247.1405689413095,\n",
       " 5635.301425463657,\n",
       " 5540.780079340435,\n",
       " 2688.22537523106,\n",
       " 2753.2238925654096,\n",
       " 3415.311560741971,\n",
       " 4699.696929122546,\n",
       " 2629.213443770112,\n",
       " 4365.582599350797,\n",
       " 6544.527396533155,\n",
       " 6549.597055630816,\n",
       " 2724.0408941521073,\n",
       " 3767.2088790343946,\n",
       " 2583.7183362723003,\n",
       " 6405.448929286573,\n",
       " 2564.731400984662,\n",
       " 7207.150445900481,\n",
       " 4955.93545707387,\n",
       " 3557.6775876173365,\n",
       " 6536.692295655767,\n",
       " 3027.2897389209757,\n",
       " 4166.4551461708015,\n",
       " 3138.1474911656805,\n",
       " 3021.010394048488,\n",
       " 3663.750933683901,\n",
       " 3036.6066339714353,\n",
       " 3222.348936056902,\n",
       " 5229.504243298,\n",
       " 5354.553635161543,\n",
       " 2770.439995196733,\n",
       " 3516.828360132017,\n",
       " 2425.157211560266,\n",
       " 3275.5087937399817,\n",
       " 2698.8712366001077,\n",
       " 5801.933037602586,\n",
       " 5137.714423447845,\n",
       " 5642.769265477265,\n",
       " 4023.2998602435464,\n",
       " 2445.016922382013,\n",
       " 4324.701282082954,\n",
       " 5500.586425741485,\n",
       " 6049.3461897513835,\n",
       " 2430.774538103585,\n",
       " 3053.6912916337706,\n",
       " 5476.5288077825335,\n",
       " 2774.6944410339843,\n",
       " 2514.8634973124867,\n",
       " 4069.681550891876,\n",
       " 6252.615594141411,\n",
       " 5936.162979316561,\n",
       " 4866.701897846109,\n",
       " 2591.8030595450273,\n",
       " 8910.467260165049,\n",
       " 8471.213655542859,\n",
       " 4157.095141654085,\n",
       " 2781.2000160246707,\n",
       " 4160.380768673244,\n",
       " 3385.160675176358,\n",
       " 6192.377085417022,\n",
       " 6422.70861389689,\n",
       " 2819.870946545263,\n",
       " 3667.8840918284095,\n",
       " 3281.741073260555,\n",
       " 4410.43287798694,\n",
       " 3403.982230470126,\n",
       " 3886.99556500752,\n",
       " 3498.618436400722,\n",
       " 2894.43214010471,\n",
       " 5985.41782691447,\n",
       " 3012.747201229769,\n",
       " 2369.1062416414616,\n",
       " 4394.836847742382,\n",
       " 2502.745278542164,\n",
       " 5371.792027857731,\n",
       " 3167.124749941387,\n",
       " 5320.172580325614,\n",
       " 2768.707890290191,\n",
       " 5302.9290319836055,\n",
       " 2642.5781396905627,\n",
       " 4550.756391007644,\n",
       " 2746.3613003263786,\n",
       " 5350.52249173344,\n",
       " 2747.389367471645,\n",
       " 6835.465377892904,\n",
       " 4194.199115161711,\n",
       " 3307.1689018710076,\n",
       " 4513.318232817095,\n",
       " 2998.006054111473,\n",
       " 5656.662265369294,\n",
       " 3476.625076145012,\n",
       " 4689.677966363769,\n",
       " 7583.192671278279,\n",
       " 2934.760778167703,\n",
       " 3336.1684919339345,\n",
       " 3639.341055523061,\n",
       " 6868.668075845339,\n",
       " 6858.676021679138,\n",
       " 2359.674952457801,\n",
       " 2457.387413999176,\n",
       " 3006.8840569049876,\n",
       " 2512.0194097032304,\n",
       " 2994.691664937567,\n",
       " 2152.1263444666783,\n",
       " 3388.377202296365,\n",
       " 4896.700295131374,\n",
       " 6989.408116381139,\n",
       " 2750.014824984485,\n",
       " 3566.9318324255732,\n",
       " 2708.706279611622,\n",
       " 3056.558046151801,\n",
       " 4555.997623199282,\n",
       " 7718.459201656938,\n",
       " 6827.914108379546,\n",
       " 2737.5169091381863,\n",
       " 2496.364695514908,\n",
       " 5386.906559095961,\n",
       " 2700.924548878901,\n",
       " 3552.4288262172104,\n",
       " 5528.404779204095,\n",
       " 2775.312247440706,\n",
       " 2731.739027839717,\n",
       " 7692.913965304567,\n",
       " 2487.406109147576,\n",
       " 3791.917427415342,\n",
       " 2831.29719962192,\n",
       " 3010.1528390347867,\n",
       " 3318.015460555249,\n",
       " 3820.340230916782,\n",
       " 2741.9835457881195,\n",
       " 3195.3250401754076,\n",
       " 3952.054908525236,\n",
       " 3196.842847506143,\n",
       " 3308.510609257794,\n",
       " 5290.25364254824,\n",
       " 3273.9642650540936,\n",
       " 2320.2328714561218,\n",
       " 4781.732490316117,\n",
       " 7043.626196237043,\n",
       " 5043.041600128287,\n",
       " 10024.75047536073,\n",
       " 3751.419836835793,\n",
       " 3574.920778755286,\n",
       " 4232.982144301438,\n",
       " 2489.969127545093,\n",
       " 9882.745371472469,\n",
       " 2387.2591145099414,\n",
       " 2467.4477607989197,\n",
       " 2253.2773487781064,\n",
       " 6001.808782712997,\n",
       " 2831.9205242779767,\n",
       " 3221.7331747960693,\n",
       " 2488.7133554067173,\n",
       " 3126.4821822913877,\n",
       " 2943.8483214012967,\n",
       " 3842.969008834736,\n",
       " 3956.8635949608283,\n",
       " 8224.948852470257,\n",
       " 3986.9396365457796,\n",
       " 5311.26317861011,\n",
       " 2516.1708576701353,\n",
       " 3416.330566479713,\n",
       " 4282.401742620844,\n",
       " 3409.9634357773075,\n",
       " 5421.169971113736,\n",
       " 4318.2234195839665,\n",
       " 3531.9961329612493,\n",
       " 5284.310768193511,\n",
       " 6192.859593035404,\n",
       " 3740.3038515086196,\n",
       " 3908.115496717168,\n",
       " 2636.460523848913,\n",
       " 2268.9796252455276,\n",
       " 3177.3604586093616,\n",
       " 2501.0710225011526,\n",
       " 3542.4720163092793,\n",
       " 2901.495650193419,\n",
       " 2863.759947943979,\n",
       " 2513.7096283368983,\n",
       " 5018.67579274834,\n",
       " 5835.77004362691,\n",
       " 3658.956612070848,\n",
       " 4853.536671887238,\n",
       " 2311.22843777806,\n",
       " 2558.593401041967,\n",
       " 3108.5760853478514,\n",
       " 4526.175503386169,\n",
       " 3063.3359047706363,\n",
       " 2817.2690840169357,\n",
       " 2607.666396335433,\n",
       " 2453.2763080453014,\n",
       " 3426.418428187349,\n",
       " 2296.229850286962,\n",
       " 5088.735639438261,\n",
       " 2466.685867670859,\n",
       " 4795.8232074283,\n",
       " 2779.0404317626317,\n",
       " 2133.771250096481,\n",
       " 3882.5244402504713,\n",
       " 5885.783702285641,\n",
       " 3029.148988827776,\n",
       " 2582.325192353205,\n",
       " 4429.459615008427,\n",
       " 4296.317139882258,\n",
       " 2922.2894311731234,\n",
       " 3469.411089308748,\n",
       " 2901.27865917954,\n",
       " 8244.10196234872,\n",
       " 2400.306519298477,\n",
       " 2470.986052026113,\n",
       " 2420.0328240420745,\n",
       " 5053.219002340182,\n",
       " 6652.73403466751,\n",
       " 3885.173432504865,\n",
       " 4054.9438435169777,\n",
       " 3382.439639645529,\n",
       " 2509.3548516385854,\n",
       " 4380.215069758712,\n",
       " 4867.050836556373,\n",
       " 4672.29474610238,\n",
       " 2830.0938130107065,\n",
       " 2765.022362021299,\n",
       " 3417.9407650389767,\n",
       " 4943.903092314032,\n",
       " 4771.218950851476,\n",
       " 2653.673025233016,\n",
       " 2747.399822270603,\n",
       " 2443.890106272289,\n",
       " 3142.6696087879855,\n",
       " 2666.9201094058426,\n",
       " 3680.2099579332066,\n",
       " 8095.610274507013,\n",
       " 3444.1718559325977,\n",
       " 3176.8677646652645,\n",
       " 8741.81136226589,\n",
       " 3048.860131560744,\n",
       " 4568.946121532711,\n",
       " 4423.716067847615,\n",
       " 2794.313588572415,\n",
       " 4251.33483025646,\n",
       " 2378.744199957433,\n",
       " 2491.607686204342,\n",
       " 4529.049097968442,\n",
       " 2224.6943874814397,\n",
       " 2214.686235537206,\n",
       " 4556.455006024212,\n",
       " 2163.728240806808,\n",
       " 5262.128934647773,\n",
       " 5393.726544523016,\n",
       " 2320.463962198747,\n",
       " 2888.3920325245117,\n",
       " 2962.785396415205,\n",
       " 6190.777794988055,\n",
       " 2286.2417328774,\n",
       " 4801.1557758259605,\n",
       " 5118.381291564538,\n",
       " 2783.471711560188,\n",
       " 3510.8319970178354,\n",
       " 3098.229430967296,\n",
       " 2285.69159864363,\n",
       " 3447.0151816781404,\n",
       " 2326.6288995993145,\n",
       " 3609.6760271938156,\n",
       " 2711.218178202574,\n",
       " 3352.6648732638114,\n",
       " 3663.8070006390435,\n",
       " 5317.918678497934,\n",
       " 2478.054875906893,\n",
       " 3213.0606524097648,\n",
       " 2607.454395945292,\n",
       " 3719.797268546044,\n",
       " 4050.6330095926505,\n",
       " 2341.135013894981,\n",
       " 2886.417281276633,\n",
       " 2848.5477273737624,\n",
       " 6453.311527403158,\n",
       " 3650.7007048537475,\n",
       " 3571.0605269710977,\n",
       " 4754.982343615151,\n",
       " 3549.876760008393,\n",
       " 3503.8323922821323,\n",
       " 2899.5447231036574,\n",
       " 5109.590406693671,\n",
       " 2256.2954797554294,\n",
       " 7336.722216547121,\n",
       " 3455.5634329621917,\n",
       " 5733.486720945397,\n",
       " 2580.309889617687,\n",
       " 4562.356320609537,\n",
       " 3981.6338543546417,\n",
       " 3412.019961602183,\n",
       " 4435.832382276449,\n",
       " 2175.6270456183533,\n",
       " 3665.9976712644875,\n",
       " 4906.552150900733,\n",
       " 3231.2767992439444,\n",
       " 2482.6118097789654,\n",
       " 4644.2506013610355,\n",
       " 3033.8024954671687,\n",
       " 2791.0927017194476,\n",
       " 3981.441964480995,\n",
       " 6623.107626908874,\n",
       " 7013.596165075056,\n",
       " 2589.625916787562,\n",
       " 6569.560678064757,\n",
       " 4519.100954667512,\n",
       " 2723.4990500517993,\n",
       " 5333.035613316425,\n",
       " 2713.1455341272294,\n",
       " 2548.4128551090243,\n",
       " 3795.5287782062346,\n",
       " 3436.4503072819552,\n",
       " 2175.682128888818,\n",
       " 2619.8621094996547,\n",
       " 5345.78285496977,\n",
       " 2232.5896393146163,\n",
       " 8119.512866764749,\n",
       " 2423.361701604281,\n",
       " 2890.23077940305,\n",
       " 2955.578239517124,\n",
       " 2635.655261517458,\n",
       " 2286.03969064618,\n",
       " 3188.5912466284813,\n",
       " 5700.8877208431,\n",
       " 3014.8276263681605,\n",
       " 3819.2018741617294,\n",
       " 2671.2022343539916,\n",
       " 3480.6881452248485,\n",
       " 7036.2355282661,\n",
       " 2555.8200408982448,\n",
       " 7093.426984647973,\n",
       " 5587.955744174877,\n",
       " 7048.976472678226,\n",
       " 2679.419033924196,\n",
       " 3848.649796383042,\n",
       " 7190.052193498791,\n",
       " 2181.3539823926903,\n",
       " 3701.068486497611,\n",
       " 4348.275842947823,\n",
       " 4193.917785689292,\n",
       " 5720.323534083379,\n",
       " 3888.1765460967304,\n",
       " 4575.186788223346,\n",
       " 2631.7554844803517,\n",
       " 3646.9822758916657,\n",
       " 5041.448973067602,\n",
       " 2766.3466554504944,\n",
       " 3779.032983697142,\n",
       " 4353.351939641365,\n",
       " 2768.6993734652046,\n",
       " 4069.735271291113,\n",
       " 2813.2795140701296,\n",
       " 6440.751946594747,\n",
       " 2623.6563416876015,\n",
       " 2553.731447754294,\n",
       " 2297.71081033298,\n",
       " 3419.5153733212933,\n",
       " 3260.4388992421996,\n",
       " 2793.5636773450874,\n",
       " 2777.129917643501,\n",
       " 2875.1196914811203,\n",
       " 3790.209377356642,\n",
       " 2551.252661671039,\n",
       " 4656.621906212807,\n",
       " 7014.193958846648,\n",
       " 4041.571521554957,\n",
       " 3185.5193158650272,\n",
       " 3696.6997288859952,\n",
       " 5003.892244073325,\n",
       " 3362.5511272374124,\n",
       " 3985.6294925489847,\n",
       " 3774.240773451635,\n",
       " 4114.170252841175,\n",
       " 2674.1614201876264,\n",
       " 5058.930893843416,\n",
       " 2968.309084148895,\n",
       " 4391.8508999500045,\n",
       " 3707.614909193742,\n",
       " 5054.028545159,\n",
       " 2347.130994073853,\n",
       " 2955.636043787881,\n",
       " 2794.7886501707962,\n",
       " 3964.4038767316592,\n",
       " 2387.372568458439,\n",
       " 4411.9461907904115,\n",
       " 3587.2112428285222,\n",
       " 2351.26178038674,\n",
       " 2183.866929870343,\n",
       " 5461.383233764557,\n",
       " 2930.645272557868,\n",
       " 4894.865739258898,\n",
       " 2595.4908869338924,\n",
       " 7267.676494454104,\n",
       " 6171.007658556934,\n",
       " 5613.861282661348,\n",
       " 5747.3488509869885,\n",
       " 2303.070434297456,\n",
       " 3391.970096014675,\n",
       " 3472.9165250355436,\n",
       " 3074.531097224628,\n",
       " 3954.2405665740507,\n",
       " 3818.8197966408316,\n",
       " 3278.263782379097,\n",
       " 3358.3048004944435,\n",
       " 2953.747343556145,\n",
       " 2903.6728131488076,\n",
       " 3455.8911427037438,\n",
       " 2377.6781352693574,\n",
       " 4769.744835461558,\n",
       " 2854.209599596016,\n",
       " 3939.949553570378,\n",
       " 3006.1185361689427,\n",
       " 4096.324646283521,\n",
       " 2431.2520515285996,\n",
       " 6375.512609935424,\n",
       " 2334.246744446335,\n",
       " 2878.4742261814527,\n",
       " 6784.452088078916,\n",
       " 5054.7705876068285,\n",
       " 3688.89701804226,\n",
       " 4101.948090919627,\n",
       " 3237.661945404383,\n",
       " 2649.9773903358405,\n",
       " 3810.888568206548,\n",
       " 4558.012360466435,\n",
       " 2959.0930374047093,\n",
       " 2253.267254213374,\n",
       " 2946.2443184551817,\n",
       " 3165.427097882221,\n",
       " 3532.913623470524,\n",
       " 4194.29581330285,\n",
       " 3888.862641819497,\n",
       " 4937.509814118392,\n",
       " 2431.6544441634414,\n",
       " 3615.8528657348274,\n",
       " 2856.2234351080697,\n",
       " 3589.716735173003,\n",
       " 4487.258434802473,\n",
       " 2797.476487088374,\n",
       " 4473.7168840461045,\n",
       " 5066.976993486776,\n",
       " 2421.7627309456866,\n",
       " 4335.659802664452,\n",
       " 3703.3510087880527,\n",
       " 4669.838880674869,\n",
       " 2427.8093346174437,\n",
       " 5964.795719459815,\n",
       " 3316.990697881399,\n",
       " 3923.0238314327758,\n",
       " 4126.858337734205,\n",
       " 3073.548336432337,\n",
       " 2556.977465760902,\n",
       " 4801.805745368601,\n",
       " 2468.5903793823686,\n",
       " 5856.970454798538,\n",
       " 6581.761727272807,\n",
       " 5742.459235182015,\n",
       " 2319.5359951091027,\n",
       " 5006.961661844568,\n",
       " 2414.2740304882923,\n",
       " 3157.2575609875257,\n",
       " 2620.4987393836554,\n",
       " 2687.864882365975,\n",
       " 3078.8459947342308,\n",
       " 2871.207287955352,\n",
       " 7227.611105364864,\n",
       " 4417.542572342804,\n",
       " 3544.45981707556,\n",
       " 2703.4380753671844,\n",
       " 2814.8784302937006,\n",
       " 2468.4166167172452,\n",
       " 6093.806119466799,\n",
       " 2191.923582158853,\n",
       " 4236.457820238085,\n",
       " 3423.660545573056,\n",
       " 2737.681089297335,\n",
       " 2832.029441025561,\n",
       " 10050.153651505765,\n",
       " 5263.435358020897,\n",
       " 3866.9183174287086,\n",
       " 2959.784686090347,\n",
       " 8262.629087126206,\n",
       " 4134.229218513083,\n",
       " 3074.76741194859,\n",
       " 2263.239739027966,\n",
       " 3208.0283456916795,\n",
       " 4322.992491713187,\n",
       " 2830.6101210336005,\n",
       " 4766.942177785224,\n",
       " 3786.9800941625695,\n",
       " 4612.278870910003,\n",
       " 3080.931386964919,\n",
       " 4515.657873637583,\n",
       " 2228.827029156851,\n",
       " 2728.740386212732,\n",
       " 3057.4012149681166,\n",
       " 3357.365203127637,\n",
       " ...]"
      ]
     },
     "execution_count": 3,
     "metadata": {},
     "output_type": "execute_result"
    }
   ],
   "source": [
    "data"
   ]
  },
  {
   "cell_type": "code",
   "execution_count": 4,
   "metadata": {},
   "outputs": [
    {
     "data": {
      "text/plain": [
       "3964.91631120814"
      ]
     },
     "execution_count": 4,
     "metadata": {},
     "output_type": "execute_result"
    }
   ],
   "source": [
    "np.mean(data)"
   ]
  },
  {
   "cell_type": "code",
   "execution_count": 5,
   "metadata": {},
   "outputs": [
    {
     "data": {
      "text/plain": [
       "1504.490605342145"
      ]
     },
     "execution_count": 5,
     "metadata": {},
     "output_type": "execute_result"
    }
   ],
   "source": [
    "np.std(data)"
   ]
  },
  {
   "cell_type": "code",
   "execution_count": 6,
   "metadata": {},
   "outputs": [
    {
     "data": {
      "text/plain": [
       "10600.022085986644"
      ]
     },
     "execution_count": 6,
     "metadata": {},
     "output_type": "execute_result"
    }
   ],
   "source": [
    "np.max(data)"
   ]
  },
  {
   "cell_type": "code",
   "execution_count": 7,
   "metadata": {},
   "outputs": [
    {
     "data": {
      "text/plain": [
       "2111.808813589045"
      ]
     },
     "execution_count": 7,
     "metadata": {},
     "output_type": "execute_result"
    }
   ],
   "source": [
    "np.min(data)"
   ]
  },
  {
   "cell_type": "code",
   "execution_count": 8,
   "metadata": {},
   "outputs": [],
   "source": [
    "d0 = 100\n",
    "g_mean = 0.05\n",
    "g_sd = 0.01\n",
    "\n",
    "data = []\n",
    "\n",
    "for x in range(10000):\n",
    "    g = sct.norm.ppf(random.uniform(0,1),loc=g_mean,scale=g_sd)\n",
    "    r = 0.10\n",
    "    d1 = d0*(1+g)\n",
    "    v0 = d1/(r-g)\n",
    "    data.append(v0)"
   ]
  },
  {
   "cell_type": "code",
   "execution_count": 9,
   "metadata": {},
   "outputs": [
    {
     "name": "stderr",
     "output_type": "stream",
     "text": [
      "C:\\Users\\dhyan\\anaconda3\\lib\\site-packages\\seaborn\\distributions.py:2557: FutureWarning: `distplot` is a deprecated function and will be removed in a future version. Please adapt your code to use either `displot` (a figure-level function with similar flexibility) or `histplot` (an axes-level function for histograms).\n",
      "  warnings.warn(msg, FutureWarning)\n"
     ]
    },
    {
     "data": {
      "text/plain": [
       "Text(0.5, 0, 'Market Value')"
      ]
     },
     "execution_count": 9,
     "metadata": {},
     "output_type": "execute_result"
    },
    {
     "data": {
      "image/png": "[encoded data removed]",
      "text/plain": [
       "<Figure size 432x288 with 1 Axes>"
      ]
     },
     "metadata": {
      "needs_background": "light"
     },
     "output_type": "display_data"
    }
   ],
   "source": [
    "sns.distplot(data)\n",
    "plt.ylabel('Frequency')\n",
    "plt.xlabel('Market Value')"
   ]
  },
  {
   "cell_type": "code",
   "execution_count": 10,
   "metadata": {},
   "outputs": [
    {
     "data": {
      "text/plain": [
       "2209.332809692505"
      ]
     },
     "execution_count": 10,
     "metadata": {},
     "output_type": "execute_result"
    }
   ],
   "source": [
    "np.mean(data)"
   ]
  },
  {
   "cell_type": "code",
   "execution_count": 11,
   "metadata": {},
   "outputs": [
    {
     "data": {
      "text/plain": [
       "2106.121826825161"
      ]
     },
     "execution_count": 11,
     "metadata": {},
     "output_type": "execute_result"
    }
   ],
   "source": [
    "np.median(data)"
   ]
  },
  {
   "cell_type": "code",
   "execution_count": 12,
   "metadata": {},
   "outputs": [
    {
     "data": {
      "text/plain": [
       "558.3146435524922"
      ]
     },
     "execution_count": 12,
     "metadata": {},
     "output_type": "execute_result"
    }
   ],
   "source": [
    "np.std(data)"
   ]
  },
  {
   "cell_type": "code",
   "execution_count": 13,
   "metadata": {},
   "outputs": [
    {
     "data": {
      "text/plain": [
       "10157.942745973894"
      ]
     },
     "execution_count": 13,
     "metadata": {},
     "output_type": "execute_result"
    }
   ],
   "source": [
    "np.max(data)"
   ]
  },
  {
   "cell_type": "code",
   "execution_count": 14,
   "metadata": {},
   "outputs": [
    {
     "data": {
      "text/plain": [
       "1115.0396204342726"
      ]
     },
     "execution_count": 14,
     "metadata": {},
     "output_type": "execute_result"
    }
   ],
   "source": [
    "np.min(data)"
   ]
  },
  {
   "cell_type": "markdown",
   "metadata": {},
   "source": [
    "## H-Model"
   ]
  },
  {
   "cell_type": "markdown",
   "metadata": {},
   "source": [
    "$$V_0 = \\frac{D_0(1 + g_L)}{r - g_L} + \\frac{D_0H(g_S - g_L)}{r - g_L}$$"
   ]
  },
  {
   "cell_type": "markdown",
   "metadata": {},
   "source": [
    "$$V_0 = \\frac{D_0(1 + g_L) + D_0H(g_S - g_L)}{r - g_L}$$"
   ]
  },
  {
   "cell_type": "code",
   "execution_count": 15,
   "metadata": {},
   "outputs": [],
   "source": [
    "d0 = 163\n",
    "gL_mean = 0.025\n",
    "gL_sd = 0.00001\n",
    "gS_mean = -0.05\n",
    "gS_sd = 0.00001\n",
    "r = 0.08\n",
    "n = 10\n",
    "H = n/2\n",
    "\n",
    "data = []\n",
    "\n",
    "for x in range(10000):\n",
    "    gL = sct.norm.ppf(random.uniform(0,1),loc=gL_mean,scale=gL_sd)\n",
    "    gS = sct.norm.ppf(random.uniform(0,1),loc=gS_mean,scale=gS_sd)\n",
    "\n",
    "    vS = (d0*H*(gS-gL))/(r-gL)\n",
    "    vL = (d0*(1+gL))/(r-gL)\n",
    "    v0 = vS + vL\n",
    "    data.append(v0)"
   ]
  },
  {
   "cell_type": "code",
   "execution_count": 16,
   "metadata": {},
   "outputs": [
    {
     "name": "stderr",
     "output_type": "stream",
     "text": [
      "C:\\Users\\dhyan\\anaconda3\\lib\\site-packages\\seaborn\\distributions.py:2557: FutureWarning: `distplot` is a deprecated function and will be removed in a future version. Please adapt your code to use either `displot` (a figure-level function with similar flexibility) or `histplot` (an axes-level function for histograms).\n",
      "  warnings.warn(msg, FutureWarning)\n"
     ]
    },
    {
     "data": {
      "text/plain": [
       "Text(0.5, 0, 'Market Value')"
      ]
     },
     "execution_count": 16,
     "metadata": {},
     "output_type": "execute_result"
    },
    {
     "data": {
      "image/png": "[encoded data removed]",
      "text/plain": [
       "<Figure size 432x288 with 1 Axes>"
      ]
     },
     "metadata": {
      "needs_background": "light"
     },
     "output_type": "display_data"
    }
   ],
   "source": [
    "sns.distplot(data)\n",
    "plt.ylabel('Frequency')\n",
    "plt.xlabel('Market Value')"
   ]
  },
  {
   "cell_type": "code",
   "execution_count": 17,
   "metadata": {},
   "outputs": [
    {
     "data": {
      "text/plain": [
       "1926.3631460446677"
      ]
     },
     "execution_count": 17,
     "metadata": {},
     "output_type": "execute_result"
    }
   ],
   "source": [
    "np.mean(data)"
   ]
  },
  {
   "cell_type": "code",
   "execution_count": 18,
   "metadata": {},
   "outputs": [
    {
     "data": {
      "text/plain": [
       "0.2726365750777301"
      ]
     },
     "execution_count": 18,
     "metadata": {},
     "output_type": "execute_result"
    }
   ],
   "source": [
    "np.std(data)"
   ]
  },
  {
   "cell_type": "code",
   "execution_count": 19,
   "metadata": {},
   "outputs": [
    {
     "data": {
      "text/plain": [
       "1927.335479593719"
      ]
     },
     "execution_count": 19,
     "metadata": {},
     "output_type": "execute_result"
    }
   ],
   "source": [
    "np.max(data)"
   ]
  },
  {
   "cell_type": "code",
   "execution_count": 20,
   "metadata": {},
   "outputs": [
    {
     "data": {
      "text/plain": [
       "1925.0843056902183"
      ]
     },
     "execution_count": 20,
     "metadata": {},
     "output_type": "execute_result"
    }
   ],
   "source": [
    "np.min(data)"
   ]
  },
  {
   "cell_type": "markdown",
   "metadata": {},
   "source": [
    "## 3 Stage Model"
   ]
  },
  {
   "cell_type": "code",
   "execution_count": 21,
   "metadata": {},
   "outputs": [
    {
     "name": "stderr",
     "output_type": "stream",
     "text": [
      "C:\\Users\\dhyan\\anaconda3\\lib\\site-packages\\seaborn\\distributions.py:2557: FutureWarning: `distplot` is a deprecated function and will be removed in a future version. Please adapt your code to use either `displot` (a figure-level function with similar flexibility) or `histplot` (an axes-level function for histograms).\n",
      "  warnings.warn(msg, FutureWarning)\n"
     ]
    },
    {
     "data": {
      "text/plain": [
       "Text(0.5, 0, 'Market Value')"
      ]
     },
     "execution_count": 21,
     "metadata": {},
     "output_type": "execute_result"
    },
    {
     "data": {
      "image/png": "[encoded data removed]",
      "text/plain": [
       "<Figure size 432x288 with 1 Axes>"
      ]
     },
     "metadata": {
      "needs_background": "light"
     },
     "output_type": "display_data"
    }
   ],
   "source": [
    "d0 = 163\n",
    "gL_mean = 0.025\n",
    "gL_sd = 0.00001\n",
    "gS1_mean = -0.05\n",
    "gS1_sd = 0.00001\n",
    "gS2_mean = 0.025\n",
    "gS2_sd = 0.00001\n",
    "\n",
    "r = 0.08\n",
    "n = 10\n",
    "H = n/2\n",
    "\n",
    "data = []\n",
    "\n",
    "for x in range(10000):\n",
    "    gL = sct.norm.ppf(random.uniform(0,1),loc=gL_mean,scale=gL_sd)\n",
    "    gS1 = sct.norm.ppf(random.uniform(0,1),loc=gS_mean,scale=gS_sd)\n",
    "    gS2 = sct.norm.ppf(random.uniform(0,1),loc=gS2_mean,scale=gS2_sd)\n",
    "    \n",
    "    d1 = d0*(1+gS1)\n",
    "    \n",
    "    v1 = (d1)/(1+r)\n",
    "    \n",
    "    vS = (d1*H*(gS2-gL))/(r-gL)\n",
    "    \n",
    "    vL = (d1*(1+gL))/(r-gL)\n",
    "    \n",
    "    v2 = (vS + vL)/(1+r)\n",
    "    \n",
    "    v0 = v1 + v2\n",
    "    data.append(v0)\n",
    "    \n",
    "sns.distplot(data)\n",
    "plt.ylabel('Frequency')\n",
    "plt.xlabel('Market Value')"
   ]
  },
  {
   "cell_type": "code",
   "execution_count": 22,
   "metadata": {},
   "outputs": [
    {
     "data": {
      "text/plain": [
       "2815.4614464345386"
      ]
     },
     "execution_count": 22,
     "metadata": {},
     "output_type": "execute_result"
    }
   ],
   "source": [
    "np.mean(data)"
   ]
  },
  {
   "cell_type": "code",
   "execution_count": 23,
   "metadata": {},
   "outputs": [
    {
     "data": {
      "text/plain": [
       "0.4063505189055733"
      ]
     },
     "execution_count": 23,
     "metadata": {},
     "output_type": "execute_result"
    }
   ],
   "source": [
    "np.std(data)"
   ]
  },
  {
   "cell_type": "code",
   "execution_count": 24,
   "metadata": {},
   "outputs": [
    {
     "data": {
      "text/plain": [
       "2816.930765559648"
      ]
     },
     "execution_count": 24,
     "metadata": {},
     "output_type": "execute_result"
    }
   ],
   "source": [
    "np.max(data)"
   ]
  },
  {
   "cell_type": "code",
   "execution_count": 25,
   "metadata": {},
   "outputs": [
    {
     "data": {
      "text/plain": [
       "2813.804627290356"
      ]
     },
     "execution_count": 25,
     "metadata": {},
     "output_type": "execute_result"
    }
   ],
   "source": [
    "np.min(data)"
   ]
  },
  {
   "cell_type": "code",
   "execution_count": null,
   "metadata": {},
   "outputs": [],
   "source": []
  }
 ],
 "metadata": {
  "interpreter": {
   "hash": "7357342c28b9427862d1765b5eaa8f866f9ef129df352f14d978f3068f1a2a77"
  },
  "kernelspec": {
   "display_name": "Python 3.8.8 ('base')",
   "language": "python",
   "name": "python3"
  },
  "language_info": {
   "codemirror_mode": {
    "name": "ipython",
    "version": 3
   },
   "file_extension": ".py",
   "mimetype": "text/x-python",
   "name": "python",
   "nbconvert_exporter": "python",
   "pygments_lexer": "ipython3",
   "version": "3.8.8"
  },
  "orig_nbformat": 4
 },
 "nbformat": 4,
 "nbformat_minor": 2
}
